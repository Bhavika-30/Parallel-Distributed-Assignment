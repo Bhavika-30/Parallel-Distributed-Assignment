{
  "nbformat": 4,
  "nbformat_minor": 0,
  "metadata": {
    "colab": {
      "provenance": [],
      "gpuType": "T4",
      "authorship_tag": "ABX9TyOqtsWp2QzhdgJo8RZyC1ZP",
      "include_colab_link": true
    },
    "kernelspec": {
      "name": "python3",
      "display_name": "Python 3"
    },
    "language_info": {
      "name": "python"
    },
    "accelerator": "GPU"
  },
  "cells": [
    {
      "cell_type": "markdown",
      "metadata": {
        "id": "view-in-github",
        "colab_type": "text"
      },
      "source": [
        "<a href=\"https://colab.research.google.com/github/Bhavika-30/Parallel-Distributed-Assignment/blob/main/Assignment5.ipynb\" target=\"_parent\"><img src=\"https://colab.research.google.com/assets/colab-badge.svg\" alt=\"Open In Colab\"/></a>"
      ]
    },
    {
      "cell_type": "markdown",
      "source": [
        "## 1.1"
      ],
      "metadata": {
        "id": "ciVpMQOE37Z2"
      }
    },
    {
      "cell_type": "code",
      "execution_count": 3,
      "metadata": {
        "colab": {
          "base_uri": "https://localhost:8080/"
        },
        "id": "g897trw9jvrf",
        "outputId": "293d2997-ef3d-448a-ff86-e56eb2ea3af7"
      },
      "outputs": [
        {
          "output_type": "stream",
          "name": "stdout",
          "text": [
            "Overwriting 1.1.cu\n"
          ]
        }
      ],
      "source": [
        "%%writefile 1.1.cu\n",
        "#include <stdio.h>\n",
        "#include <cuda_runtime.h>\n",
        "\n",
        "#define N 1048576\n",
        "__device__ float d_A[N];\n",
        "__device__ float d_B[N];\n",
        "__device__ float d_C[N];\n",
        "\n",
        "__global__ void vectorAdd(int n)\n",
        "{\n",
        "    int i = blockDim.x * blockIdx.x + threadIdx.x;\n",
        "    if (i < n)\n",
        "    {\n",
        "        d_C[i] = d_A[i] + d_B[i];\n",
        "    }\n",
        "}\n",
        "\n",
        "__global__ void initializeArrays(int n)\n",
        "{\n",
        "    int i = blockDim.x * blockIdx.x + threadIdx.x;\n",
        "    if (i < n)\n",
        "    {\n",
        "        d_A[i] = i;\n",
        "        d_B[i] = 2 * i;\n",
        "    }\n",
        "}\n",
        "\n",
        "int main(void)\n",
        "{\n",
        "    cudaError_t err = cudaSuccess;\n",
        "\n",
        "    printf(\"Vector addition of %d elements\\n\", N);\n",
        "\n",
        "    int threadsPerBlock = 256;\n",
        "    int blocksPerGrid = (N + threadsPerBlock - 1) / threadsPerBlock;\n",
        "\n",
        "    printf(\"CUDA kernel launch with %d blocks of %d threads\\n\", blocksPerGrid, threadsPerBlock);\n",
        "\n",
        "    initializeArrays<<<blocksPerGrid, threadsPerBlock>>>(N);\n",
        "    err = cudaGetLastError();\n",
        "    if (err != cudaSuccess)\n",
        "    {\n",
        "        fprintf(stderr, \"Failed to launch initialize kernel (error code %s)!\\n\", cudaGetErrorString(err));\n",
        "        exit(EXIT_FAILURE);\n",
        "    }\n",
        "\n",
        "    cudaDeviceSynchronize();\n",
        "\n",
        "    vectorAdd<<<blocksPerGrid, threadsPerBlock>>>(N);\n",
        "    err = cudaGetLastError();\n",
        "    if (err != cudaSuccess)\n",
        "    {\n",
        "        fprintf(stderr, \"Failed to launch vectorAdd kernel (error code %s)!\\n\", cudaGetErrorString(err));\n",
        "        exit(EXIT_FAILURE);\n",
        "    }\n",
        "\n",
        "    cudaDeviceSynchronize();\n",
        "\n",
        "    float h_C[10]; // Just verify first 10 elements to avoid memory issues\n",
        "    err = cudaMemcpyFromSymbol(h_C, d_C, 10 * sizeof(float));\n",
        "    if (err != cudaSuccess)\n",
        "    {\n",
        "        fprintf(stderr, \"Failed to copy result array from device to host (error code %s)!\\n\", cudaGetErrorString(err));\n",
        "        exit(EXIT_FAILURE);\n",
        "    }\n",
        "\n",
        "    for (int i = 0; i < 10; i++)\n",
        "    {\n",
        "        float expected = i + 2*i;\n",
        "        if (fabs(h_C[i] - expected) > 1e-5)\n",
        "        {\n",
        "            fprintf(stderr, \"Result verification failed at element %d!\\n\", i);\n",
        "            exit(EXIT_FAILURE);\n",
        "        }\n",
        "    }\n",
        "\n",
        "    printf(\"Test PASSED\\n\");\n",
        "\n",
        "    err = cudaDeviceReset();\n",
        "    if (err != cudaSuccess)\n",
        "    {\n",
        "        fprintf(stderr, \"Failed to deinitialize the device! error=%s\\n\", cudaGetErrorString(err));\n",
        "        exit(EXIT_FAILURE);\n",
        "    }\n",
        "\n",
        "    printf(\"Done\\n\");\n",
        "    return 0;\n",
        "}"
      ]
    },
    {
      "cell_type": "code",
      "source": [
        "!nvcc 1.1.cu -o 1.1 -arch=sm_75\n",
        "!./1.1"
      ],
      "metadata": {
        "colab": {
          "base_uri": "https://localhost:8080/"
        },
        "id": "ELPv4FEf426c",
        "outputId": "86660ef2-b557-4c9e-bf5d-06e9bb510921"
      },
      "execution_count": 4,
      "outputs": [
        {
          "output_type": "stream",
          "name": "stdout",
          "text": [
            "Vector addition of 1048576 elements\n",
            "CUDA kernel launch with 4096 blocks of 256 threads\n",
            "Test PASSED\n",
            "Done\n"
          ]
        }
      ]
    },
    {
      "cell_type": "code",
      "source": [
        "!nvprof ./1.1"
      ],
      "metadata": {
        "colab": {
          "base_uri": "https://localhost:8080/"
        },
        "id": "n6xdjAD07NAC",
        "outputId": "65ba9d88-62e0-47c7-cd3e-63f198b200b8"
      },
      "execution_count": 5,
      "outputs": [
        {
          "output_type": "stream",
          "name": "stdout",
          "text": [
            "Vector addition of 1048576 elements\n",
            "CUDA kernel launch with 4096 blocks of 256 threads\n",
            "==3028== NVPROF is profiling process 3028, command: ./1.1\n",
            "Test PASSED\n",
            "Done\n",
            "==3028== Profiling application: ./1.1\n",
            "==3028== Profiling result:\n",
            "            Type  Time(%)      Time     Calls       Avg       Min       Max  Name\n",
            " GPU activities:   57.57%  54.142us         1  54.142us  54.142us  54.142us  vectorAdd(int)\n",
            "                   39.95%  37.567us         1  37.567us  37.567us  37.567us  initializeArrays(int)\n",
            "                    2.48%  2.3360us         1  2.3360us  2.3360us  2.3360us  [CUDA memcpy DtoH]\n",
            "      API calls:   75.77%  115.20ms         2  57.598ms  10.337us  115.19ms  cudaLaunchKernel\n",
            "                   23.34%  35.489ms         1  35.489ms  35.489ms  35.489ms  cudaDeviceReset\n",
            "                    0.65%  994.26us         1  994.26us  994.26us  994.26us  cudaMemcpyFromSymbol\n",
            "                    0.15%  229.02us       114  2.0080us     193ns  98.298us  cuDeviceGetAttribute\n",
            "                    0.06%  91.257us         2  45.628us  34.348us  56.909us  cudaDeviceSynchronize\n",
            "                    0.01%  13.594us         1  13.594us  13.594us  13.594us  cuDeviceGetName\n",
            "                    0.01%  8.3960us         1  8.3960us  8.3960us  8.3960us  cuDeviceGetPCIBusId\n",
            "                    0.00%  1.4930us         3     497ns     211ns  1.0030us  cuDeviceGetCount\n",
            "                    0.00%  1.2070us         2     603ns     145ns  1.0620us  cudaGetLastError\n",
            "                    0.00%     908ns         2     454ns     203ns     705ns  cuDeviceGet\n",
            "                    0.00%     550ns         1     550ns     550ns     550ns  cuModuleGetLoadingMode\n",
            "                    0.00%     538ns         1     538ns     538ns     538ns  cuDeviceTotalMem\n",
            "                    0.00%     373ns         1     373ns     373ns     373ns  cuDeviceGetUuid\n"
          ]
        }
      ]
    },
    {
      "cell_type": "markdown",
      "source": [
        "## 1.2"
      ],
      "metadata": {
        "id": "Zbj14m--8ozW"
      }
    },
    {
      "cell_type": "code",
      "source": [
        "%%writefile 1.2.cu\n",
        "#include <stdio.h>\n",
        "#include <cuda_runtime.h>\n",
        "#define N 1048576\n",
        "__device__ float d_A[N];\n",
        "__device__ float d_B[N];\n",
        "__device__ float d_C[N];\n",
        "\n",
        "__global__ void vectorAdd(int n)\n",
        "{\n",
        "    int i = blockDim.x * blockIdx.x + threadIdx.x;\n",
        "    if (i < n)\n",
        "    {\n",
        "        d_C[i] = d_A[i] + d_B[i];\n",
        "    }\n",
        "}\n",
        "\n",
        "__global__ void initializeArrays(int n)\n",
        "{\n",
        "    int i = blockDim.x * blockIdx.x + threadIdx.x;\n",
        "    if (i < n)\n",
        "    {\n",
        "        d_A[i] = i;\n",
        "        d_B[i] = 2 * i;\n",
        "    }\n",
        "}\n",
        "\n",
        "int main(void)\n",
        "{\n",
        "    cudaError_t err = cudaSuccess;\n",
        "\n",
        "    printf(\"Vector addition of %d elements\\n\", N);\n",
        "\n",
        "    int threadsPerBlock = 256;\n",
        "    int blocksPerGrid = (N + threadsPerBlock - 1) / threadsPerBlock;\n",
        "\n",
        "    printf(\"CUDA kernel launch with %d blocks of %d threads\\n\", blocksPerGrid, threadsPerBlock);\n",
        "\n",
        "    initializeArrays<<<blocksPerGrid, threadsPerBlock>>>(N);\n",
        "    err = cudaGetLastError();\n",
        "    if (err != cudaSuccess)\n",
        "    {\n",
        "        fprintf(stderr, \"Failed to launch initialize kernel (error code %s)!\\n\", cudaGetErrorString(err));\n",
        "        exit(EXIT_FAILURE);\n",
        "    }\n",
        "\n",
        "    cudaDeviceSynchronize();\n",
        "\n",
        "    cudaEvent_t start, stop;\n",
        "    cudaEventCreate(&start);\n",
        "    cudaEventCreate(&stop);\n",
        "\n",
        "    cudaEventRecord(start, NULL);\n",
        "\n",
        "    vectorAdd<<<blocksPerGrid, threadsPerBlock>>>(N);\n",
        "    err = cudaGetLastError();\n",
        "    if (err != cudaSuccess)\n",
        "    {\n",
        "        fprintf(stderr, \"Failed to launch vectorAdd kernel (error code %s)!\\n\", cudaGetErrorString(err));\n",
        "        exit(EXIT_FAILURE);\n",
        "    }\n",
        "\n",
        "    cudaEventRecord(stop, NULL);\n",
        "\n",
        "    cudaEventSynchronize(stop);\n",
        "\n",
        "    float milliseconds = 0;\n",
        "    cudaEventElapsedTime(&milliseconds, start, stop);\n",
        "\n",
        "    printf(\"Kernel execution time: %f ms\\n\", milliseconds);\n",
        "\n",
        "    float h_C[10]; // Just verify first 10 elements\n",
        "    err = cudaMemcpyFromSymbol(h_C, d_C, 10 * sizeof(float));\n",
        "    if (err != cudaSuccess)\n",
        "    {\n",
        "        fprintf(stderr, \"Failed to copy result array from device to host (error code %s)!\\n\", cudaGetErrorString(err));\n",
        "        exit(EXIT_FAILURE);\n",
        "    }\n",
        "\n",
        "    for (int i = 0; i < 10; i++)\n",
        "    {\n",
        "        float expected = i + 2*i;\n",
        "        if (fabs(h_C[i] - expected) > 1e-5)\n",
        "        {\n",
        "            fprintf(stderr, \"Result verification failed at element %d!\\n\", i);\n",
        "            exit(EXIT_FAILURE);\n",
        "        }\n",
        "    }\n",
        "\n",
        "    printf(\"Test PASSED\\n\");\n",
        "\n",
        "    cudaEventDestroy(start);\n",
        "    cudaEventDestroy(stop);\n",
        "\n",
        "    err = cudaDeviceReset();\n",
        "    if (err != cudaSuccess)\n",
        "    {\n",
        "        fprintf(stderr, \"Failed to deinitialize the device! error=%s\\n\", cudaGetErrorString(err));\n",
        "        exit(EXIT_FAILURE);\n",
        "    }\n",
        "\n",
        "    printf(\"Done\\n\");\n",
        "    return 0;\n",
        "}"
      ],
      "metadata": {
        "colab": {
          "base_uri": "https://localhost:8080/"
        },
        "id": "R7D8aj1L741q",
        "outputId": "ed427dc8-163e-468a-fb18-2350febcd5db"
      },
      "execution_count": 7,
      "outputs": [
        {
          "output_type": "stream",
          "name": "stdout",
          "text": [
            "Writing 1.2.cu\n"
          ]
        }
      ]
    },
    {
      "cell_type": "code",
      "source": [
        "!nvcc 1.2.cu -o 1.2 -arch=sm_75\n",
        "!./1.2"
      ],
      "metadata": {
        "colab": {
          "base_uri": "https://localhost:8080/"
        },
        "id": "lRn8tL5F8W2w",
        "outputId": "0c2e7f4e-b9a1-4c84-c987-f8b590fc68dd"
      },
      "execution_count": 8,
      "outputs": [
        {
          "output_type": "stream",
          "name": "stdout",
          "text": [
            "Vector addition of 1048576 elements\n",
            "CUDA kernel launch with 4096 blocks of 256 threads\n",
            "Kernel execution time: 0.090144 ms\n",
            "Test PASSED\n",
            "Done\n"
          ]
        }
      ]
    },
    {
      "cell_type": "code",
      "source": [
        "!nvprof ./1.2"
      ],
      "metadata": {
        "colab": {
          "base_uri": "https://localhost:8080/"
        },
        "id": "6cDoAGZX8eCt",
        "outputId": "4aa68a61-d5eb-4f54-9777-b1ddeda91994"
      },
      "execution_count": 9,
      "outputs": [
        {
          "output_type": "stream",
          "name": "stdout",
          "text": [
            "Vector addition of 1048576 elements\n",
            "CUDA kernel launch with 4096 blocks of 256 threads\n",
            "==4510== NVPROF is profiling process 4510, command: ./1.2\n",
            "Kernel execution time: 0.068352 ms\n",
            "Test PASSED\n",
            "Done\n",
            "==4510== Profiling application: ./1.2\n",
            "==4510== Profiling result:\n",
            "            Type  Time(%)      Time     Calls       Avg       Min       Max  Name\n",
            " GPU activities:   57.42%  54.495us         1  54.495us  54.495us  54.495us  vectorAdd(int)\n",
            "                   40.12%  38.079us         1  38.079us  38.079us  38.079us  initializeArrays(int)\n",
            "                    2.46%  2.3360us         1  2.3360us  2.3360us  2.3360us  [CUDA memcpy DtoH]\n",
            "      API calls:   74.75%  115.02ms         2  57.509ms  10.729us  115.01ms  cudaLaunchKernel\n",
            "                   25.00%  38.471ms         1  38.471ms  38.471ms  38.471ms  cudaDeviceReset\n",
            "                    0.13%  200.21us       114  1.7560us     183ns  77.345us  cuDeviceGetAttribute\n",
            "                    0.04%  56.185us         1  56.185us  56.185us  56.185us  cudaEventSynchronize\n",
            "                    0.02%  32.442us         1  32.442us  32.442us  32.442us  cudaMemcpyFromSymbol\n",
            "                    0.02%  29.898us         1  29.898us  29.898us  29.898us  cudaDeviceSynchronize\n",
            "                    0.02%  24.083us         2  12.041us  1.1030us  22.980us  cudaEventCreate\n",
            "                    0.01%  12.181us         1  12.181us  12.181us  12.181us  cuDeviceGetName\n",
            "                    0.01%  10.226us         2  5.1130us  3.7360us  6.4900us  cudaEventRecord\n",
            "                    0.01%  8.2570us         1  8.2570us  8.2570us  8.2570us  cuDeviceGetPCIBusId\n",
            "                    0.00%  3.1400us         1  3.1400us  3.1400us  3.1400us  cudaEventElapsedTime\n",
            "                    0.00%  2.0840us         2  1.0420us     670ns  1.4140us  cudaEventDestroy\n",
            "                    0.00%  1.9800us         3     660ns     230ns  1.4980us  cuDeviceGetCount\n",
            "                    0.00%  1.2730us         2     636ns     231ns  1.0420us  cudaGetLastError\n",
            "                    0.00%     753ns         2     376ns     237ns     516ns  cuDeviceGet\n",
            "                    0.00%     619ns         1     619ns     619ns     619ns  cuDeviceTotalMem\n",
            "                    0.00%     409ns         1     409ns     409ns     409ns  cuModuleGetLoadingMode\n",
            "                    0.00%     290ns         1     290ns     290ns     290ns  cuDeviceGetUuid\n"
          ]
        }
      ]
    },
    {
      "cell_type": "markdown",
      "source": [
        "## 1.3"
      ],
      "metadata": {
        "id": "KtGf8iBr8r8J"
      }
    },
    {
      "cell_type": "code",
      "source": [
        "%%writefile 1.3.cu\n",
        "#include <stdio.h>\n",
        "#include <cuda_runtime.h>\n",
        "#define N 1048576\n",
        "__device__ float d_A[N];\n",
        "__device__ float d_B[N];\n",
        "__device__ float d_C[N];\n",
        "\n",
        "__global__ void vectorAdd(int n)\n",
        "{\n",
        "    int i = blockDim.x * blockIdx.x + threadIdx.x;\n",
        "    if (i < n)\n",
        "    {\n",
        "        d_C[i] = d_A[i] + d_B[i];\n",
        "    }\n",
        "}\n",
        "\n",
        "__global__ void initializeArrays(int n)\n",
        "{\n",
        "    int i = blockDim.x * blockIdx.x + threadIdx.x;\n",
        "    if (i < n)\n",
        "    {\n",
        "        d_A[i] = i;\n",
        "        d_B[i] = 2 * i;\n",
        "    }\n",
        "}\n",
        "\n",
        "int main(void)\n",
        "{\n",
        "    cudaError_t err = cudaSuccess;\n",
        "\n",
        "    printf(\"Vector addition of %d elements\\n\", N);\n",
        "\n",
        "    cudaDeviceProp deviceProp;\n",
        "    err = cudaGetDeviceProperties(&deviceProp, 0);\n",
        "    if (err != cudaSuccess)\n",
        "    {\n",
        "        fprintf(stderr, \"Failed to get device properties (error code %s)!\\n\", cudaGetErrorString(err));\n",
        "        exit(EXIT_FAILURE);\n",
        "    }\n",
        "\n",
        "    float memClockRate = deviceProp.memoryClockRate * 1000;\n",
        "    float memBusWidth = deviceProp.memoryBusWidth;\n",
        "    float theoreticalBW = (memClockRate * memBusWidth * 2) / 8.0f;\n",
        "    theoreticalBW = theoreticalBW / 1.0e9f; // Convert to GB/s\n",
        "\n",
        "    printf(\"Device: %s\\n\", deviceProp.name);\n",
        "    printf(\"Memory Clock Rate (KHz): %d\\n\", deviceProp.memoryClockRate);\n",
        "    printf(\"Memory Bus Width (bits): %d\\n\", deviceProp.memoryBusWidth);\n",
        "    printf(\"Theoretical Bandwidth (GB/s): %f\\n\", theoreticalBW);\n",
        "\n",
        "    int threadsPerBlock = 256;\n",
        "    int blocksPerGrid = (N + threadsPerBlock - 1) / threadsPerBlock;\n",
        "\n",
        "    printf(\"CUDA kernel launch with %d blocks of %d threads\\n\", blocksPerGrid, threadsPerBlock);\n",
        "\n",
        "    initializeArrays<<<blocksPerGrid, threadsPerBlock>>>(N);\n",
        "    err = cudaGetLastError();\n",
        "    if (err != cudaSuccess)\n",
        "    {\n",
        "        fprintf(stderr, \"Failed to launch initialize kernel (error code %s)!\\n\", cudaGetErrorString(err));\n",
        "        exit(EXIT_FAILURE);\n",
        "    }\n",
        "\n",
        "    cudaDeviceSynchronize();\n",
        "\n",
        "    vectorAdd<<<blocksPerGrid, threadsPerBlock>>>(N);\n",
        "    err = cudaGetLastError();\n",
        "    if (err != cudaSuccess)\n",
        "    {\n",
        "        fprintf(stderr, \"Failed to launch vectorAdd kernel (error code %s)!\\n\", cudaGetErrorString(err));\n",
        "        exit(EXIT_FAILURE);\n",
        "    }\n",
        "\n",
        "    cudaDeviceSynchronize();\n",
        "\n",
        "    float h_C[10]; // Just verify first 10 elements\n",
        "    err = cudaMemcpyFromSymbol(h_C, d_C, 10 * sizeof(float));\n",
        "    if (err != cudaSuccess)\n",
        "    {\n",
        "        fprintf(stderr, \"Failed to copy result array from device to host (error code %s)!\\n\", cudaGetErrorString(err));\n",
        "        exit(EXIT_FAILURE);\n",
        "    }\n",
        "\n",
        "    for (int i = 0; i < 10; i++)\n",
        "    {\n",
        "        float expected = i + 2*i;\n",
        "        if (fabs(h_C[i] - expected) > 1e-5)\n",
        "        {\n",
        "            fprintf(stderr, \"Result verification failed at element %d!\\n\", i);\n",
        "            exit(EXIT_FAILURE);\n",
        "        }\n",
        "    }\n",
        "\n",
        "    printf(\"Test PASSED\\n\");\n",
        "\n",
        "    err = cudaDeviceReset();\n",
        "    if (err != cudaSuccess)\n",
        "    {\n",
        "        fprintf(stderr, \"Failed to deinitialize the device! error=%s\\n\", cudaGetErrorString(err));\n",
        "        exit(EXIT_FAILURE);\n",
        "    }\n",
        "\n",
        "    printf(\"Done\\n\");\n",
        "    return 0;\n",
        "}"
      ],
      "metadata": {
        "colab": {
          "base_uri": "https://localhost:8080/"
        },
        "id": "h3iyFIp08uAw",
        "outputId": "04ed8ed1-709e-40c6-81a0-e8a1dda8c3d2"
      },
      "execution_count": 12,
      "outputs": [
        {
          "output_type": "stream",
          "name": "stdout",
          "text": [
            "Overwriting 1.3.cu\n"
          ]
        }
      ]
    },
    {
      "cell_type": "code",
      "source": [
        "!nvcc 1.3.cu -o 1.3 -arch=sm_75\n",
        "!./1.3"
      ],
      "metadata": {
        "colab": {
          "base_uri": "https://localhost:8080/"
        },
        "id": "vMqLVeeM9ReP",
        "outputId": "5b977db2-4f22-4691-f270-53a23824c470"
      },
      "execution_count": 13,
      "outputs": [
        {
          "output_type": "stream",
          "name": "stdout",
          "text": [
            "Vector addition of 1048576 elements\n",
            "Device: Tesla T4\n",
            "Memory Clock Rate (KHz): 5001000\n",
            "Memory Bus Width (bits): 256\n",
            "Theoretical Bandwidth (GB/s): 45.186092\n",
            "CUDA kernel launch with 4096 blocks of 256 threads\n",
            "Test PASSED\n",
            "Done\n"
          ]
        }
      ]
    },
    {
      "cell_type": "code",
      "source": [
        "!nvprof ./1.3"
      ],
      "metadata": {
        "colab": {
          "base_uri": "https://localhost:8080/"
        },
        "id": "y_CPu1La9_Rb",
        "outputId": "227d4065-2083-4cd8-8bf5-e122b531bb96"
      },
      "execution_count": 14,
      "outputs": [
        {
          "output_type": "stream",
          "name": "stdout",
          "text": [
            "Vector addition of 1048576 elements\n",
            "==6261== NVPROF is profiling process 6261, command: ./1.3\n",
            "Device: Tesla T4\n",
            "Memory Clock Rate (KHz): 5001000\n",
            "Memory Bus Width (bits): 256\n",
            "Theoretical Bandwidth (GB/s): 45.186092\n",
            "CUDA kernel launch with 4096 blocks of 256 threads\n",
            "Test PASSED\n",
            "Done\n",
            "==6261== Profiling application: ./1.3\n",
            "==6261== Profiling result:\n",
            "            Type  Time(%)      Time     Calls       Avg       Min       Max  Name\n",
            " GPU activities:   57.51%  55.007us         1  55.007us  55.007us  55.007us  vectorAdd(int)\n",
            "                   39.75%  38.015us         1  38.015us  38.015us  38.015us  initializeArrays(int)\n",
            "                    2.74%  2.6240us         1  2.6240us  2.6240us  2.6240us  [CUDA memcpy DtoH]\n",
            "      API calls:   78.58%  100.73ms         2  50.365ms  6.2520us  100.72ms  cudaLaunchKernel\n",
            "                   21.13%  27.086ms         1  27.086ms  27.086ms  27.086ms  cudaDeviceReset\n",
            "                    0.11%  136.49us       114  1.1970us     106ns  55.292us  cuDeviceGetAttribute\n",
            "                    0.08%  96.911us         1  96.911us  96.911us  96.911us  cudaGetDeviceProperties\n",
            "                    0.07%  94.907us         2  47.453us  36.248us  58.659us  cudaDeviceSynchronize\n",
            "                    0.02%  27.445us         1  27.445us  27.445us  27.445us  cudaMemcpyFromSymbol\n",
            "                    0.01%  11.610us         1  11.610us  11.610us  11.610us  cuDeviceGetName\n",
            "                    0.00%  6.3040us         1  6.3040us  6.3040us  6.3040us  cuDeviceGetPCIBusId\n",
            "                    0.00%  1.4720us         3     490ns     142ns  1.0230us  cuDeviceGetCount\n",
            "                    0.00%  1.2670us         2     633ns     222ns  1.0450us  cuDeviceGet\n",
            "                    0.00%  1.0490us         2     524ns     120ns     929ns  cudaGetLastError\n",
            "                    0.00%     475ns         1     475ns     475ns     475ns  cuModuleGetLoadingMode\n",
            "                    0.00%     359ns         1     359ns     359ns     359ns  cuDeviceTotalMem\n",
            "                    0.00%     285ns         1     285ns     285ns     285ns  cuDeviceGetUuid\n"
          ]
        }
      ]
    },
    {
      "cell_type": "markdown",
      "source": [
        "## 1.4"
      ],
      "metadata": {
        "id": "9Jax1Upm-E65"
      }
    },
    {
      "cell_type": "code",
      "source": [
        "%%writefile 1.4.cu\n",
        "#include <stdio.h>\n",
        "#include <cuda_runtime.h>\n",
        "#define N 1048576\n",
        "__device__ float d_A[N];\n",
        "__device__ float d_B[N];\n",
        "__device__ float d_C[N];\n",
        "\n",
        "__global__ void vectorAdd(int n)\n",
        "{\n",
        "    int i = blockDim.x * blockIdx.x + threadIdx.x;\n",
        "    if (i < n)\n",
        "    {\n",
        "        d_C[i] = d_A[i] + d_B[i];\n",
        "    }\n",
        "}\n",
        "\n",
        "__global__ void initializeArrays(int n)\n",
        "{\n",
        "    int i = blockDim.x * blockIdx.x + threadIdx.x;\n",
        "    if (i < n)\n",
        "    {\n",
        "        d_A[i] = i;\n",
        "        d_B[i] = 2 * i;\n",
        "    }\n",
        "}\n",
        "\n",
        "int main(void)\n",
        "{\n",
        "    cudaError_t err = cudaSuccess;\n",
        "\n",
        "    printf(\"Vector addition of %d elements\\n\", N);\n",
        "\n",
        "    cudaDeviceProp deviceProp;\n",
        "    err = cudaGetDeviceProperties(&deviceProp, 0);\n",
        "    if (err != cudaSuccess)\n",
        "    {\n",
        "        fprintf(stderr, \"Failed to get device properties (error code %s)!\\n\", cudaGetErrorString(err));\n",
        "        exit(EXIT_FAILURE);\n",
        "    }\n",
        "\n",
        "    float memClockRate = deviceProp.memoryClockRate * 1000;\n",
        "    float memBusWidth = deviceProp.memoryBusWidth;\n",
        "    float theoreticalBW = (memClockRate * memBusWidth * 2) / 8.0f;\n",
        "    theoreticalBW = theoreticalBW / 1.0e9f; // Convert to GB/s\n",
        "\n",
        "    printf(\"Device: %s\\n\", deviceProp.name);\n",
        "    printf(\"Memory Clock Rate (KHz): %d\\n\", deviceProp.memoryClockRate);\n",
        "    printf(\"Memory Bus Width (bits): %d\\n\", deviceProp.memoryBusWidth);\n",
        "    printf(\"Theoretical Bandwidth (GB/s): %f\\n\", theoreticalBW);\n",
        "\n",
        "    int threadsPerBlock = 256;\n",
        "    int blocksPerGrid = (N + threadsPerBlock - 1) / threadsPerBlock;\n",
        "\n",
        "    printf(\"CUDA kernel launch with %d blocks of %d threads\\n\", blocksPerGrid, threadsPerBlock);\n",
        "\n",
        "    initializeArrays<<<blocksPerGrid, threadsPerBlock>>>(N);\n",
        "    err = cudaGetLastError();\n",
        "    if (err != cudaSuccess)\n",
        "    {\n",
        "        fprintf(stderr, \"Failed to launch initialize kernel (error code %s)!\\n\", cudaGetErrorString(err));\n",
        "        exit(EXIT_FAILURE);\n",
        "    }\n",
        "\n",
        "    cudaDeviceSynchronize();\n",
        "\n",
        "    cudaEvent_t start, stop;\n",
        "    cudaEventCreate(&start);\n",
        "    cudaEventCreate(&stop);\n",
        "\n",
        "    cudaEventRecord(start, NULL);\n",
        "\n",
        "    vectorAdd<<<blocksPerGrid, threadsPerBlock>>>(N);\n",
        "    err = cudaGetLastError();\n",
        "    if (err != cudaSuccess)\n",
        "    {\n",
        "        fprintf(stderr, \"Failed to launch vectorAdd kernel (error code %s)!\\n\", cudaGetErrorString(err));\n",
        "        exit(EXIT_FAILURE);\n",
        "    }\n",
        "\n",
        "    cudaEventRecord(stop, NULL);\n",
        "\n",
        "    cudaEventSynchronize(stop);\n",
        "\n",
        "    float milliseconds = 0;\n",
        "    cudaEventElapsedTime(&milliseconds, start, stop);\n",
        "\n",
        "    printf(\"Kernel execution time: %f ms\\n\", milliseconds);\n",
        "\n",
        "    size_t bytesRead = 2 * sizeof(float) * N;\n",
        "    size_t bytesWritten = sizeof(float) * N;\n",
        "    float totalBytes = (float)(bytesRead + bytesWritten);\n",
        "    float seconds = milliseconds / 1000.0f;\n",
        "    float measuredBW = totalBytes / seconds / 1.0e9f;\n",
        "\n",
        "    printf(\"Data read: %.2f MB\\n\", bytesRead / (1024.0f * 1024.0f));\n",
        "    printf(\"Data written: %.2f MB\\n\", bytesWritten / (1024.0f * 1024.0f));\n",
        "    printf(\"Measured Bandwidth (GB/s): %.2f\\n\", measuredBW);\n",
        "    printf(\"Bandwidth utilization: %.2f%%\\n\", (measuredBW / theoreticalBW) * 100.0f);\n",
        "\n",
        "    float h_C[10]; // Just verify first 10 elements\n",
        "    err = cudaMemcpyFromSymbol(h_C, d_C, 10 * sizeof(float));\n",
        "    if (err != cudaSuccess)\n",
        "    {\n",
        "        fprintf(stderr, \"Failed to copy result array from device to host (error code %s)!\\n\", cudaGetErrorString(err));\n",
        "        exit(EXIT_FAILURE);\n",
        "    }\n",
        "\n",
        "    for (int i = 0; i < 10; i++)\n",
        "    {\n",
        "        float expected = i + 2*i;\n",
        "        if (fabs(h_C[i] - expected) > 1e-5)\n",
        "        {\n",
        "            fprintf(stderr, \"Result verification failed at element %d!\\n\", i);\n",
        "            exit(EXIT_FAILURE);\n",
        "        }\n",
        "    }\n",
        "\n",
        "    printf(\"Test PASSED\\n\");\n",
        "\n",
        "    cudaEventDestroy(start);\n",
        "    cudaEventDestroy(stop);\n",
        "\n",
        "    err = cudaDeviceReset();\n",
        "    if (err != cudaSuccess)\n",
        "    {\n",
        "        fprintf(stderr, \"Failed to deinitialize the device! error=%s\\n\", cudaGetErrorString(err));\n",
        "        exit(EXIT_FAILURE);\n",
        "    }\n",
        "\n",
        "    printf(\"Done\\n\");\n",
        "    return 0;\n",
        "}"
      ],
      "metadata": {
        "colab": {
          "base_uri": "https://localhost:8080/"
        },
        "id": "rTCVmxvp-EBD",
        "outputId": "c0a3b9a5-c7c8-4028-e4c4-535b0009f002"
      },
      "execution_count": 21,
      "outputs": [
        {
          "output_type": "stream",
          "name": "stdout",
          "text": [
            "Overwriting 1.4.cu\n"
          ]
        }
      ]
    },
    {
      "cell_type": "code",
      "source": [
        "!nvcc 1.4.cu -o 1.4 -arch=sm_75\n",
        "!./1.4"
      ],
      "metadata": {
        "colab": {
          "base_uri": "https://localhost:8080/"
        },
        "id": "fKkQVogl-1u3",
        "outputId": "4f2ab4e1-0907-4abe-80e7-be3dd5f9816f"
      },
      "execution_count": 22,
      "outputs": [
        {
          "output_type": "stream",
          "name": "stdout",
          "text": [
            "Vector addition of 1048576 elements\n",
            "Device: Tesla T4\n",
            "Memory Clock Rate (KHz): 5001000\n",
            "Memory Bus Width (bits): 256\n",
            "Theoretical Bandwidth (GB/s): 45.186092\n",
            "CUDA kernel launch with 4096 blocks of 256 threads\n",
            "Kernel execution time: 0.067040 ms\n",
            "Data read: 8.00 MB\n",
            "Data written: 4.00 MB\n",
            "Measured Bandwidth (GB/s): 187.69\n",
            "Bandwidth utilization: 415.38%\n",
            "Test PASSED\n",
            "Done\n"
          ]
        }
      ]
    },
    {
      "cell_type": "code",
      "source": [
        "!nvprof ./1.4"
      ],
      "metadata": {
        "colab": {
          "base_uri": "https://localhost:8080/"
        },
        "id": "nKhUlCW__lq6",
        "outputId": "0c01d9f3-5f0a-42dd-e3e4-84447ebf778a"
      },
      "execution_count": 23,
      "outputs": [
        {
          "output_type": "stream",
          "name": "stdout",
          "text": [
            "Vector addition of 1048576 elements\n",
            "==8146== NVPROF is profiling process 8146, command: ./1.4\n",
            "Device: Tesla T4\n",
            "Memory Clock Rate (KHz): 5001000\n",
            "Memory Bus Width (bits): 256\n",
            "Theoretical Bandwidth (GB/s): 45.186092\n",
            "CUDA kernel launch with 4096 blocks of 256 threads\n",
            "Kernel execution time: 0.064608 ms\n",
            "Data read: 8.00 MB\n",
            "Data written: 4.00 MB\n",
            "Measured Bandwidth (GB/s): 194.76\n",
            "Bandwidth utilization: 431.01%\n",
            "Test PASSED\n",
            "Done\n",
            "==8146== Profiling application: ./1.4\n",
            "==8146== Profiling result:\n",
            "            Type  Time(%)      Time     Calls       Avg       Min       Max  Name\n",
            " GPU activities:   57.50%  54.463us         1  54.463us  54.463us  54.463us  vectorAdd(int)\n",
            "                   40.03%  37.919us         1  37.919us  37.919us  37.919us  initializeArrays(int)\n",
            "                    2.47%  2.3350us         1  2.3350us  2.3350us  2.3350us  [CUDA memcpy DtoH]\n",
            "      API calls:   75.73%  83.909ms         2  41.955ms  7.1890us  83.902ms  cudaLaunchKernel\n",
            "                   23.90%  26.483ms         1  26.483ms  26.483ms  26.483ms  cudaDeviceReset\n",
            "                    0.13%  140.59us       114  1.2330us     106ns  55.370us  cuDeviceGetAttribute\n",
            "                    0.09%  98.106us         1  98.106us  98.106us  98.106us  cudaGetDeviceProperties\n",
            "                    0.05%  58.505us         1  58.505us  58.505us  58.505us  cudaEventSynchronize\n",
            "                    0.03%  36.514us         1  36.514us  36.514us  36.514us  cudaDeviceSynchronize\n",
            "                    0.03%  32.665us         1  32.665us  32.665us  32.665us  cudaMemcpyFromSymbol\n",
            "                    0.01%  10.450us         1  10.450us  10.450us  10.450us  cuDeviceGetName\n",
            "                    0.01%  6.8730us         2  3.4360us  2.6100us  4.2630us  cudaEventRecord\n",
            "                    0.01%  6.8680us         2  3.4340us     486ns  6.3820us  cudaEventCreate\n",
            "                    0.01%  6.1040us         1  6.1040us  6.1040us  6.1040us  cuDeviceGetPCIBusId\n",
            "                    0.00%  2.1280us         2  1.0640us     702ns  1.4260us  cudaEventDestroy\n",
            "                    0.00%  1.7220us         1  1.7220us  1.7220us  1.7220us  cudaEventElapsedTime\n",
            "                    0.00%  1.5390us         3     513ns     108ns  1.2300us  cuDeviceGetCount\n",
            "                    0.00%  1.0070us         2     503ns     133ns     874ns  cudaGetLastError\n",
            "                    0.00%     685ns         2     342ns     131ns     554ns  cuDeviceGet\n",
            "                    0.00%     565ns         1     565ns     565ns     565ns  cuModuleGetLoadingMode\n",
            "                    0.00%     376ns         1     376ns     376ns     376ns  cuDeviceTotalMem\n",
            "                    0.00%     251ns         1     251ns     251ns     251ns  cuDeviceGetUuid\n"
          ]
        }
      ]
    }
  ]
}